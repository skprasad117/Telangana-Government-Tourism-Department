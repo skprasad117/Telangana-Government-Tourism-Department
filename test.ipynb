{
 "cells": [
  {
   "cell_type": "code",
   "execution_count": 3,
   "id": "23edde82",
   "metadata": {},
   "outputs": [],
   "source": [
    "import pandas as pd"
   ]
  },
  {
   "cell_type": "code",
   "execution_count": 45,
   "id": "436d01e1",
   "metadata": {},
   "outputs": [
    {
     "data": {
      "text/plain": [
       "['domestic_visitors', 'foreign_visitors']"
      ]
     },
     "execution_count": 45,
     "metadata": {},
     "output_type": "execute_result"
    }
   ],
   "source": [
    "import os\n",
    "\n",
    "directory = 'Dataset'\n",
    "\n",
    "folders = [folder for folder in os.listdir(directory) if os.path.isdir(os.path.join(directory,folder))]\n",
    "folders"
   ]
  },
  {
   "cell_type": "code",
   "execution_count": 47,
   "id": "16d6103d",
   "metadata": {},
   "outputs": [
    {
     "data": {
      "text/plain": [
       "{'domestic_visitors': ['domestic_visitors_2016.csv',\n",
       "  'domestic_visitors_2017.csv',\n",
       "  'domestic_visitors_2018.csv',\n",
       "  'domestic_visitors_2019.csv'],\n",
       " 'foreign_visitors': ['foreign_visitors_2016.csv',\n",
       "  'foreign_visitors_2017.csv',\n",
       "  'foreign_visitors_2018.csv',\n",
       "  'foreign_visitors_2019.csv']}"
      ]
     },
     "execution_count": 47,
     "metadata": {},
     "output_type": "execute_result"
    }
   ],
   "source": [
    "files = dict()\n",
    "for folder in folders:\n",
    "    files[folder] = [file for file in os.listdir(os.path.join(directory,folder))]\n",
    "files"
   ]
  },
  {
   "cell_type": "code",
   "execution_count": 89,
   "id": "3995f0fb",
   "metadata": {},
   "outputs": [],
   "source": [
    "for folder in folders:\n",
    "    df_1 = pd.DataFrame()\n",
    "    for count,file in enumerate(files[folder]):\n",
    "        if count == 0:\n",
    "            df_1 = pd.read_csv(os.path.join(directory,folder,file))\n",
    "        else :\n",
    "            df_2 = pd.read_csv(os.path.join(directory,folder,file))\n",
    "            df_1 = pd.concat([df_1,df_2],axis=0)\n",
    "    try:\n",
    "        os.makedirs(\"merged_files\")\n",
    "    except FileExistsError:\n",
    "        pass\n",
    "    df_1.to_csv(os.path.join('merged_files',folder+'.csv'), index= False)\n"
   ]
  },
  {
   "cell_type": "code",
   "execution_count": 83,
   "id": "00341137",
   "metadata": {},
   "outputs": [
    {
     "data": {
      "text/plain": [
       "'foreign_visitors.csv'"
      ]
     },
     "execution_count": 83,
     "metadata": {},
     "output_type": "execute_result"
    }
   ],
   "source": [
    "folder+'.csv'"
   ]
  },
  {
   "cell_type": "code",
   "execution_count": 42,
   "id": "172aaffe",
   "metadata": {},
   "outputs": [],
   "source": [
    "# combining the files\n",
    "df_d_2016 = pd.read_csv(\"Dataset/domestic_visitors/domestic_visitors_2016.csv\")\n",
    "df_d_2017 = pd.read_csv(\"Dataset/domestic_visitors/domestic_visitors_2017.csv\")"
   ]
  },
  {
   "cell_type": "code",
   "execution_count": 76,
   "id": "45e5c8f1",
   "metadata": {},
   "outputs": [
    {
     "data": {
      "text/plain": [
       "'foreign_visitors'"
      ]
     },
     "execution_count": 76,
     "metadata": {},
     "output_type": "execute_result"
    }
   ],
   "source": [
    "folder"
   ]
  },
  {
   "cell_type": "code",
   "execution_count": 90,
   "id": "3725f9ae",
   "metadata": {},
   "outputs": [
    {
     "ename": "TypeError",
     "evalue": "list indices must be integers or slices, not str",
     "output_type": "error",
     "traceback": [
      "\u001b[1;31m---------------------------------------------------------------------------\u001b[0m",
      "\u001b[1;31mTypeError\u001b[0m                                 Traceback (most recent call last)",
      "\u001b[1;32m~\\AppData\\Local\\Temp\\ipykernel_10148\\3822209661.py\u001b[0m in \u001b[0;36m<module>\u001b[1;34m\u001b[0m\n\u001b[0;32m     37\u001b[0m         \u001b[1;32mreturn\u001b[0m \u001b[1;32mNone\u001b[0m\u001b[1;33m\u001b[0m\u001b[1;33m\u001b[0m\u001b[0m\n\u001b[0;32m     38\u001b[0m \u001b[1;33m\u001b[0m\u001b[0m\n\u001b[1;32m---> 39\u001b[1;33m \u001b[0mprint\u001b[0m\u001b[1;33m(\u001b[0m\u001b[0mread_directory\u001b[0m\u001b[1;33m(\u001b[0m\u001b[0mdirectory\u001b[0m\u001b[1;33m)\u001b[0m\u001b[1;33m)\u001b[0m\u001b[1;33m\u001b[0m\u001b[1;33m\u001b[0m\u001b[0m\n\u001b[0m\u001b[0;32m     40\u001b[0m \u001b[1;33m\u001b[0m\u001b[0m\n",
      "\u001b[1;32m~\\AppData\\Local\\Temp\\ipykernel_10148\\3822209661.py\u001b[0m in \u001b[0;36mread_directory\u001b[1;34m(directory_name)\u001b[0m\n\u001b[0;32m      8\u001b[0m     \u001b[0mfolders\u001b[0m \u001b[1;33m=\u001b[0m \u001b[1;33m[\u001b[0m\u001b[0mfolder\u001b[0m \u001b[1;32mfor\u001b[0m \u001b[0mfolder\u001b[0m \u001b[1;32min\u001b[0m \u001b[0mos\u001b[0m\u001b[1;33m.\u001b[0m\u001b[0mlistdir\u001b[0m\u001b[1;33m(\u001b[0m\u001b[0mdirectory\u001b[0m\u001b[1;33m)\u001b[0m \u001b[1;32mif\u001b[0m \u001b[0mos\u001b[0m\u001b[1;33m.\u001b[0m\u001b[0mpath\u001b[0m\u001b[1;33m.\u001b[0m\u001b[0misdir\u001b[0m\u001b[1;33m(\u001b[0m\u001b[0mos\u001b[0m\u001b[1;33m.\u001b[0m\u001b[0mpath\u001b[0m\u001b[1;33m.\u001b[0m\u001b[0mjoin\u001b[0m\u001b[1;33m(\u001b[0m\u001b[0mdirectory\u001b[0m\u001b[1;33m,\u001b[0m\u001b[0mfolder\u001b[0m\u001b[1;33m)\u001b[0m\u001b[1;33m)\u001b[0m\u001b[1;33m]\u001b[0m\u001b[1;33m\u001b[0m\u001b[1;33m\u001b[0m\u001b[0m\n\u001b[0;32m      9\u001b[0m \u001b[1;33m\u001b[0m\u001b[0m\n\u001b[1;32m---> 10\u001b[1;33m     \u001b[0mread_files\u001b[0m\u001b[1;33m(\u001b[0m\u001b[0mfolder_name\u001b[0m \u001b[1;33m=\u001b[0m \u001b[0mfolders\u001b[0m\u001b[1;33m)\u001b[0m\u001b[1;33m\u001b[0m\u001b[1;33m\u001b[0m\u001b[0m\n\u001b[0m\u001b[0;32m     11\u001b[0m     \u001b[1;32mreturn\u001b[0m \u001b[1;34m\"success\"\u001b[0m\u001b[1;33m\u001b[0m\u001b[1;33m\u001b[0m\u001b[0m\n\u001b[0;32m     12\u001b[0m \u001b[1;33m\u001b[0m\u001b[0m\n",
      "\u001b[1;32m~\\AppData\\Local\\Temp\\ipykernel_10148\\3822209661.py\u001b[0m in \u001b[0;36mread_files\u001b[1;34m(folder_name)\u001b[0m\n\u001b[0;32m     17\u001b[0m         \u001b[0mfiles\u001b[0m\u001b[1;33m[\u001b[0m\u001b[0mfolder\u001b[0m\u001b[1;33m]\u001b[0m \u001b[1;33m=\u001b[0m \u001b[1;33m[\u001b[0m\u001b[0mfile\u001b[0m \u001b[1;32mfor\u001b[0m \u001b[0mfile\u001b[0m \u001b[1;32min\u001b[0m \u001b[0mos\u001b[0m\u001b[1;33m.\u001b[0m\u001b[0mlistdir\u001b[0m\u001b[1;33m(\u001b[0m\u001b[0mos\u001b[0m\u001b[1;33m.\u001b[0m\u001b[0mpath\u001b[0m\u001b[1;33m.\u001b[0m\u001b[0mjoin\u001b[0m\u001b[1;33m(\u001b[0m\u001b[0mdirectory\u001b[0m\u001b[1;33m,\u001b[0m\u001b[0mfolder\u001b[0m\u001b[1;33m)\u001b[0m\u001b[1;33m)\u001b[0m\u001b[1;33m]\u001b[0m\u001b[1;33m\u001b[0m\u001b[1;33m\u001b[0m\u001b[0m\n\u001b[0;32m     18\u001b[0m \u001b[1;33m\u001b[0m\u001b[0m\n\u001b[1;32m---> 19\u001b[1;33m     \u001b[0mread_merge_save\u001b[0m\u001b[1;33m(\u001b[0m\u001b[0mfolders_in_directory\u001b[0m \u001b[1;33m=\u001b[0m \u001b[0mfolders\u001b[0m\u001b[1;33m,\u001b[0m \u001b[0mfiles_in_folders\u001b[0m \u001b[1;33m=\u001b[0m \u001b[0mfiles\u001b[0m\u001b[1;33m)\u001b[0m\u001b[1;33m\u001b[0m\u001b[1;33m\u001b[0m\u001b[0m\n\u001b[0m\u001b[0;32m     20\u001b[0m \u001b[1;33m\u001b[0m\u001b[0m\n\u001b[0;32m     21\u001b[0m \u001b[1;32mdef\u001b[0m \u001b[0mread_merge_save\u001b[0m\u001b[1;33m(\u001b[0m\u001b[0mfolders_in_directory\u001b[0m\u001b[1;33m,\u001b[0m\u001b[0mfiles_in_folders\u001b[0m\u001b[1;33m)\u001b[0m\u001b[1;33m:\u001b[0m\u001b[1;33m\u001b[0m\u001b[1;33m\u001b[0m\u001b[0m\n",
      "\u001b[1;32m~\\AppData\\Local\\Temp\\ipykernel_10148\\3822209661.py\u001b[0m in \u001b[0;36mread_merge_save\u001b[1;34m(folders_in_directory, files_in_folders)\u001b[0m\n\u001b[0;32m     24\u001b[0m     \u001b[1;32mfor\u001b[0m \u001b[0mfolder\u001b[0m \u001b[1;32min\u001b[0m \u001b[0mfolders\u001b[0m\u001b[1;33m:\u001b[0m\u001b[1;33m\u001b[0m\u001b[1;33m\u001b[0m\u001b[0m\n\u001b[0;32m     25\u001b[0m         \u001b[0mdf_1\u001b[0m \u001b[1;33m=\u001b[0m \u001b[0mpd\u001b[0m\u001b[1;33m.\u001b[0m\u001b[0mDataFrame\u001b[0m\u001b[1;33m(\u001b[0m\u001b[1;33m)\u001b[0m\u001b[1;33m\u001b[0m\u001b[1;33m\u001b[0m\u001b[0m\n\u001b[1;32m---> 26\u001b[1;33m         \u001b[1;32mfor\u001b[0m \u001b[0mcount\u001b[0m\u001b[1;33m,\u001b[0m\u001b[0mfile\u001b[0m \u001b[1;32min\u001b[0m \u001b[0menumerate\u001b[0m\u001b[1;33m(\u001b[0m\u001b[0mfiles\u001b[0m\u001b[1;33m[\u001b[0m\u001b[0mfolder\u001b[0m\u001b[1;33m]\u001b[0m\u001b[1;33m)\u001b[0m\u001b[1;33m:\u001b[0m\u001b[1;33m\u001b[0m\u001b[1;33m\u001b[0m\u001b[0m\n\u001b[0m\u001b[0;32m     27\u001b[0m             \u001b[1;32mif\u001b[0m \u001b[0mcount\u001b[0m \u001b[1;33m==\u001b[0m \u001b[1;36m0\u001b[0m\u001b[1;33m:\u001b[0m\u001b[1;33m\u001b[0m\u001b[1;33m\u001b[0m\u001b[0m\n\u001b[0;32m     28\u001b[0m                 \u001b[0mdf_1\u001b[0m \u001b[1;33m=\u001b[0m \u001b[0mpd\u001b[0m\u001b[1;33m.\u001b[0m\u001b[0mread_csv\u001b[0m\u001b[1;33m(\u001b[0m\u001b[0mos\u001b[0m\u001b[1;33m.\u001b[0m\u001b[0mpath\u001b[0m\u001b[1;33m.\u001b[0m\u001b[0mjoin\u001b[0m\u001b[1;33m(\u001b[0m\u001b[0mdirectory\u001b[0m\u001b[1;33m,\u001b[0m\u001b[0mfolder\u001b[0m\u001b[1;33m,\u001b[0m\u001b[0mfile\u001b[0m\u001b[1;33m)\u001b[0m\u001b[1;33m)\u001b[0m\u001b[1;33m\u001b[0m\u001b[1;33m\u001b[0m\u001b[0m\n",
      "\u001b[1;31mTypeError\u001b[0m: list indices must be integers or slices, not str"
     ]
    }
   ],
   "source": [
    "import os\n",
    "import pandas as pd\n",
    "\n",
    "directory = 'Dataset'\n",
    " \n",
    "def read_directory(directory_name):\n",
    "    directory = directory_name\n",
    "    folders = [folder for folder in os.listdir(directory) if os.path.isdir(os.path.join(directory,folder))]\n",
    "    \n",
    "    read_files(folder_name = folders)\n",
    "    return \"success\"\n",
    "\n",
    "def read_files(folder_name):\n",
    "    folders = folder_name\n",
    "    files = dict()\n",
    "    for folder in folders:\n",
    "        files[folder] = [file for file in os.listdir(os.path.join(directory,folder))]\n",
    "\n",
    "    read_merge_save(folders_in_directory = folders, files_in_folders = files)\n",
    "\n",
    "def read_merge_save(folders_in_directory,files_in_folders):\n",
    "    folders = folders_in_directory\n",
    "    files = files_in_folders\n",
    "    print(type(files))\n",
    "    for folder in folders:\n",
    "        df_1 = pd.DataFrame()\n",
    "        for count,file in enumerate(files[folder]):\n",
    "            if count == 0:\n",
    "                df_1 = pd.read_csv(os.path.join(directory,folder,file))\n",
    "            else :\n",
    "                df_2 = pd.read_csv(os.path.join(directory,folder,file))\n",
    "                df_1 = pd.concat([df_1,df_2],axis=0)\n",
    "        try:\n",
    "            os.makedirs(\"merged_files\")\n",
    "        except FileExistsError:\n",
    "            pass\n",
    "        df_1.to_csv(os.path.join('merged_files',folder+'.csv'), index= False)\n",
    "    return None\n",
    "\n",
    "print(read_directory(directory))\n",
    "        "
   ]
  },
  {
   "cell_type": "code",
   "execution_count": null,
   "id": "2066b897",
   "metadata": {},
   "outputs": [],
   "source": []
  }
 ],
 "metadata": {
  "kernelspec": {
   "display_name": "Python 3 (ipykernel)",
   "language": "python",
   "name": "python3"
  },
  "language_info": {
   "codemirror_mode": {
    "name": "ipython",
    "version": 3
   },
   "file_extension": ".py",
   "mimetype": "text/x-python",
   "name": "python",
   "nbconvert_exporter": "python",
   "pygments_lexer": "ipython3",
   "version": "3.9.13"
  }
 },
 "nbformat": 4,
 "nbformat_minor": 5
}
